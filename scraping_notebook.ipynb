{
 "cells": [
  {
   "cell_type": "code",
   "execution_count": null,
   "metadata": {
    "ExecuteTime": {
     "end_time": "2020-10-11T23:05:58.836244Z",
     "start_time": "2020-10-11T23:05:58.809147Z"
    }
   },
   "outputs": [],
   "source": [
    "%load_ext autoreload\n",
    "%autoreload 2"
   ]
  },
  {
   "cell_type": "code",
   "execution_count": null,
   "metadata": {
    "ExecuteTime": {
     "end_time": "2020-10-11T23:19:17.703958Z",
     "start_time": "2020-10-11T23:19:17.252606Z"
    }
   },
   "outputs": [],
   "source": [
    "#import packages\n",
    "from bs4 import BeautifulSoup\n",
    "import requests\n",
    "import pandas as pd\n",
    "import numpy as np\n",
    "import random\n",
    "import time\n",
    "import pickle\n",
    "from nyt_scraper import get_recipe_details, get_recipe_urls"
   ]
  },
  {
   "cell_type": "code",
   "execution_count": null,
   "metadata": {
    "ExecuteTime": {
     "end_time": "2020-10-11T23:12:38.311641Z",
     "start_time": "2020-10-11T23:12:29.819980Z"
    }
   },
   "outputs": [],
   "source": [
    "# scrape all recipe URLs\n",
    "all_recipes = []\n",
    "get_recipe_urls(all_recipes)\n",
    "\n",
    "# save list of all recipes to a pickle\n",
    "import pickle\n",
    "with open('all_urls.pickle', 'wb') as to_write:\n",
    "    pickle.dump(all_recipes, to_write)"
   ]
  },
  {
   "cell_type": "code",
   "execution_count": null,
   "metadata": {
    "ExecuteTime": {
     "end_time": "2020-10-11T23:19:49.672722Z",
     "start_time": "2020-10-11T23:19:28.458807Z"
    }
   },
   "outputs": [],
   "source": [
    "# scrape each URL for recipe details\n",
    "list_of_recipe_dicts = []\n",
    "count = 0\n",
    "\n",
    "for link in all_recipes:\n",
    "    one_recipe = get_recipe_details(link)\n",
    "    time.sleep(.5+2*random.random())\n",
    "    list_of_recipe_dicts.append(one_recipe) #list of dicts to turn into dataframe\n",
    "    count +=1\n",
    "    print(\"Recipes scraped:{}\".format(count))\n",
    "\n",
    "# turn resulting data into dataframe\n",
    "df = pd.DataFrame(list_of_recipe_dicts)  \n",
    "\n",
    "#write dataframe to pickle\n",
    "with open('all_recipe_details.pickle', 'wb') as to_write:\n",
    "    pickle.dump(df, to_write)"
   ]
  },
  {
   "cell_type": "code",
   "execution_count": null,
   "metadata": {},
   "outputs": [],
   "source": []
  }
 ],
 "metadata": {
  "kernelspec": {
   "display_name": "Python 3",
   "language": "python",
   "name": "python3"
  },
  "language_info": {
   "codemirror_mode": {
    "name": "ipython",
    "version": 3
   },
   "file_extension": ".py",
   "mimetype": "text/x-python",
   "name": "python",
   "nbconvert_exporter": "python",
   "pygments_lexer": "ipython3",
   "version": "3.8.3"
  },
  "toc": {
   "base_numbering": 1,
   "nav_menu": {},
   "number_sections": true,
   "sideBar": true,
   "skip_h1_title": false,
   "title_cell": "Table of Contents",
   "title_sidebar": "Contents",
   "toc_cell": false,
   "toc_position": {},
   "toc_section_display": true,
   "toc_window_display": false
  },
  "varInspector": {
   "cols": {
    "lenName": 16,
    "lenType": 16,
    "lenVar": 40
   },
   "kernels_config": {
    "python": {
     "delete_cmd_postfix": "",
     "delete_cmd_prefix": "del ",
     "library": "var_list.py",
     "varRefreshCmd": "print(var_dic_list())"
    },
    "r": {
     "delete_cmd_postfix": ") ",
     "delete_cmd_prefix": "rm(",
     "library": "var_list.r",
     "varRefreshCmd": "cat(var_dic_list()) "
    }
   },
   "types_to_exclude": [
    "module",
    "function",
    "builtin_function_or_method",
    "instance",
    "_Feature"
   ],
   "window_display": false
  }
 },
 "nbformat": 4,
 "nbformat_minor": 4
}
